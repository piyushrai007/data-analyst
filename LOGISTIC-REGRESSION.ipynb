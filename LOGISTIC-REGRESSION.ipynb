{
 "cells": [
  {
   "cell_type": "markdown",
   "id": "aed024d0",
   "metadata": {},
   "source": [
    "# Q3 write about logistic regression with its implementation code in python\n",
    "<H6>Logistic regression is a supervised learning algorithm used for classification tasks. It predicts \n",
    "the probability of an observation belonging to a particular class based on one or more \n",
    "predictor variables. It is similar to linear regression, but instead of predicting a continuous \n",
    "value, it predicts a binary or multi-class value.</H6>"
   ]
  },
  {
   "cell_type": "code",
   "execution_count": 1,
   "id": "373ea2a7",
   "metadata": {},
   "outputs": [],
   "source": [
    "import numpy as np\n",
    "from sklearn.linear_model import LogisticRegression\n"
   ]
  },
  {
   "cell_type": "code",
   "execution_count": 2,
   "id": "a24cdd37",
   "metadata": {},
   "outputs": [],
   "source": [
    "# Generate sample data\n",
    "X = np.array([[1], [2], [3], [4], [5], [6], [7], [8], [9], [10]])\n",
    "y = np.array([0, 0, 0, 0, 0, 1, 1, 1, 1, 1])\n"
   ]
  },
  {
   "cell_type": "code",
   "execution_count": 3,
   "id": "f5ae1c73",
   "metadata": {},
   "outputs": [],
   "source": [
    "# Create logistic regression object\n",
    "lr = LogisticRegression()\n"
   ]
  },
  {
   "cell_type": "code",
   "execution_count": 4,
   "id": "6a2afcb2",
   "metadata": {},
   "outputs": [
    {
     "data": {
      "text/plain": [
       "LogisticRegression()"
      ]
     },
     "execution_count": 4,
     "metadata": {},
     "output_type": "execute_result"
    }
   ],
   "source": [
    "# Train the model using the training sets\n",
    "lr.fit(X, y)\n"
   ]
  },
  {
   "cell_type": "code",
   "execution_count": 5,
   "id": "083e6a0c",
   "metadata": {},
   "outputs": [
    {
     "name": "stdout",
     "output_type": "stream",
     "text": [
      "Coefficients:  [[1.18600174]]\n",
      "Intercept:  [-6.52300948]\n"
     ]
    }
   ],
   "source": [
    "# Print the coefficients\n",
    "print('Coefficients: ', lr.coef_)\n",
    "print('Intercept: ', lr.intercept_)\n"
   ]
  },
  {
   "cell_type": "code",
   "execution_count": 9,
   "id": "e0678ac9",
   "metadata": {},
   "outputs": [],
   "source": [
    "# Make predictions on new data\n",
    "X_test = np.array([[110], [12], [13], [14], [15]])\n",
    "y_pred = lr.predict(X_test)\n"
   ]
  },
  {
   "cell_type": "code",
   "execution_count": 10,
   "id": "53600f95",
   "metadata": {},
   "outputs": [
    {
     "name": "stdout",
     "output_type": "stream",
     "text": [
      "Predicted values:  [1 1 1 1 1]\n"
     ]
    }
   ],
   "source": [
    "# Print the predicted values\n",
    "print('Predicted values: ', y_pred)"
   ]
  },
  {
   "cell_type": "code",
   "execution_count": null,
   "id": "68a78d95",
   "metadata": {},
   "outputs": [],
   "source": []
  }
 ],
 "metadata": {
  "kernelspec": {
   "display_name": "Python 3 (ipykernel)",
   "language": "python",
   "name": "python3"
  },
  "language_info": {
   "codemirror_mode": {
    "name": "ipython",
    "version": 3
   },
   "file_extension": ".py",
   "mimetype": "text/x-python",
   "name": "python",
   "nbconvert_exporter": "python",
   "pygments_lexer": "ipython3",
   "version": "3.9.12"
  }
 },
 "nbformat": 4,
 "nbformat_minor": 5
}
