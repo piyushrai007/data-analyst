{
 "cells": [
  {
   "cell_type": "markdown",
   "id": "5a5b58fa",
   "metadata": {},
   "source": [
    "# Q1.write about FIND S theorem with implementation code in python.\n",
    "<h6>The FIND-S algorithm is a machine learning algorithm used for learning a hypothesis from a \n",
    "given set of training examples. It is a simple and efficient algorithm that is widely used for \n",
    "binary classification tasks.\n",
    "The algorithm starts with the most specific hypothesis and then generalizes it until it covers \n",
    "all positive training examples. The most specific hypothesis is usually represented by a \n",
    "conjunction of literals, where each literal represents a feature-value pair.\n",
    "</h6>"
   ]
  },
  {
   "cell_type": "code",
   "execution_count": 1,
   "id": "61eb64f8",
   "metadata": {},
   "outputs": [],
   "source": [
    "import pandas as pd\n",
    "import numpy as np"
   ]
  },
  {
   "cell_type": "code",
   "execution_count": 2,
   "id": "53d1a75e",
   "metadata": {},
   "outputs": [],
   "source": [
    "a = [\n",
    "    ['Sunny', 'Warm', 'Normal', 'Strong', 'Warm', 'Same'],\n",
    "    ['Sunny', 'Warm', 'High', 'Strong', 'Warm', 'Same'],\n",
    "    ['Rainy', 'Cold', 'High', 'Strong', 'Warm', 'Change'],\n",
    "    ['Sunny', 'Warm', 'High', 'Strong', 'Cool', 'Change']\n",
    "]"
   ]
  },
  {
   "cell_type": "code",
   "execution_count": 3,
   "id": "b34c36fa",
   "metadata": {},
   "outputs": [
    {
     "data": {
      "text/plain": [
       "[['Sunny', 'Warm', 'Normal', 'Strong', 'Warm', 'Same'],\n",
       " ['Sunny', 'Warm', 'High', 'Strong', 'Warm', 'Same'],\n",
       " ['Rainy', 'Cold', 'High', 'Strong', 'Warm', 'Change'],\n",
       " ['Sunny', 'Warm', 'High', 'Strong', 'Cool', 'Change']]"
      ]
     },
     "execution_count": 3,
     "metadata": {},
     "output_type": "execute_result"
    }
   ],
   "source": [
    "a"
   ]
  },
  {
   "cell_type": "code",
   "execution_count": 4,
   "id": "7a40f604",
   "metadata": {},
   "outputs": [],
   "source": [
    "t = ['Yes', 'Yes', 'No', 'Yes']\n"
   ]
  },
  {
   "cell_type": "code",
   "execution_count": 5,
   "id": "19c9a4f0",
   "metadata": {},
   "outputs": [
    {
     "data": {
      "text/plain": [
       "([['Sunny', 'Warm', 'Normal', 'Strong', 'Warm', 'Same'],\n",
       "  ['Sunny', 'Warm', 'High', 'Strong', 'Warm', 'Same'],\n",
       "  ['Rainy', 'Cold', 'High', 'Strong', 'Warm', 'Change'],\n",
       "  ['Sunny', 'Warm', 'High', 'Strong', 'Cool', 'Change']],\n",
       " ['Yes', 'Yes', 'No', 'Yes'])"
      ]
     },
     "execution_count": 5,
     "metadata": {},
     "output_type": "execute_result"
    }
   ],
   "source": [
    "a,t"
   ]
  },
  {
   "cell_type": "code",
   "execution_count": 6,
   "id": "1c83aa99",
   "metadata": {},
   "outputs": [],
   "source": [
    "def fun(c, t):\n",
    "    specific_hypothesis = None\n",
    "    for i, val in enumerate(t):\n",
    "        if val == \"Yes\":\n",
    "            specific_hypothesis = c[i].copy()\n",
    "            break\n",
    "\n",
    "    if specific_hypothesis is None:\n",
    "        print(\"No positive examples found in target dataset.\")\n",
    "        return None\n",
    "\n",
    "    for i, val in enumerate(c):\n",
    "        if t[i] == \"Yes\":\n",
    "            for x in range(len(specific_hypothesis)):\n",
    "                if val[x] != specific_hypothesis[x]:\n",
    "                    specific_hypothesis[x] = '?'\n",
    "                else:\n",
    "                    pass\n",
    "\n",
    "    return specific_hypothesis\n"
   ]
  },
  {
   "cell_type": "code",
   "execution_count": 7,
   "id": "f5680415",
   "metadata": {},
   "outputs": [
    {
     "name": "stdout",
     "output_type": "stream",
     "text": [
      "The final hypothesis is: ['Sunny', 'Warm', '?', 'Strong', '?', '?']\n"
     ]
    }
   ],
   "source": [
    "print(\"The final hypothesis is:\", fun(a, t))"
   ]
  },
  {
   "cell_type": "code",
   "execution_count": null,
   "id": "d16f95dd",
   "metadata": {},
   "outputs": [],
   "source": []
  },
  {
   "cell_type": "code",
   "execution_count": null,
   "id": "2c706710",
   "metadata": {},
   "outputs": [],
   "source": []
  }
 ],
 "metadata": {
  "kernelspec": {
   "display_name": "Python 3 (ipykernel)",
   "language": "python",
   "name": "python3"
  },
  "language_info": {
   "codemirror_mode": {
    "name": "ipython",
    "version": 3
   },
   "file_extension": ".py",
   "mimetype": "text/x-python",
   "name": "python",
   "nbconvert_exporter": "python",
   "pygments_lexer": "ipython3",
   "version": "3.9.12"
  }
 },
 "nbformat": 4,
 "nbformat_minor": 5
}
