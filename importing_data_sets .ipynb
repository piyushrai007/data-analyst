{
 "cells": [
  {
   "cell_type": "code",
   "execution_count": 1,
   "id": "df52b209",
   "metadata": {},
   "outputs": [],
   "source": [
    "\n",
    "# from dbmodule import connect(\n",
    "# connection = connect('databasename','username','pswd')\n",
    "# cursor = connection.cursor()\n",
    "# cursor.execute('select*frommytable')\n",
    "# results = cursor.fetchall()\n",
    "# Cursor.close()    \n",
    "# connection.close()"
   ]
  },
  {
   "cell_type": "code",
   "execution_count": 6,
   "id": "63941249",
   "metadata": {},
   "outputs": [
    {
     "name": "stdout",
     "output_type": "stream",
     "text": [
      "Requirement already satisfied: pyodide-py in c:\\users\\idea\\anaconda3\\lib\\site-packages (0.22.0)\n",
      "Note: you may need to restart the kernel to use updated packages.\n"
     ]
    }
   ],
   "source": [
    "pip install pyodide-py"
   ]
  },
  {
   "cell_type": "markdown",
   "id": "9bdf4012",
   "metadata": {},
   "source": [
    "#Data Acquisition\n",
    "There are various formats for a dataset: .csv, .json, .xlsx etc. The dataset can be stored in different places, on your local machine or sometimes online.\n",
    "In this section, you will learn how to load a dataset into our Jupyter Notebook.\n",
    "\n",
    "In our case, the Automobile Dataset is an online source, and it is in a CSV (comma separated value) format. Let's use this dataset as an example to practice data reading.\n",
    "\n",
    "Data source: https://archive.ics.uci.edu/ml/machine-learning-databases/autos/imports-85.data\n",
    "Data type: csv\n",
    "The Pandas Library is a useful tool that enables us to read various datasets into a dataframe; our Jupyter notebook platforms have a built-in Pandas Library so that all we need to do is import Pandas without installing."
   ]
  },
  {
   "cell_type": "code",
   "execution_count": 7,
   "id": "612dcd2e",
   "metadata": {},
   "outputs": [],
   "source": [
    "# recurired libraries\n",
    "import pandas as pd\n",
    "import numpy as np"
   ]
  },
  {
   "cell_type": "code",
   "execution_count": 9,
   "id": "3bbed1ae",
   "metadata": {},
   "outputs": [],
   "source": [
    "#This function will download the dataset into  browse\n",
    "\n",
    "\n",
    "from pyodide.http import pyfetch\n",
    "\n",
    "async def download(url, filename):\n",
    "    response = await pyfetch(url)\n",
    "    if response.status == 200:\n",
    "        with open(filename, \"wb\") as f:\n",
    "            f.write(await response.bytes())"
   ]
  },
  {
   "cell_type": "code",
   "execution_count": null,
   "id": "ac3a4f1e",
   "metadata": {},
   "outputs": [],
   "source": [
    "path = \"https://cf-courses-data.s3.us.cloud-object-storage.appdomain.cloud/IBMDeveloperSkillsNetwork-DA0101EN-SkillsNetwork/labs/Data%20files/auto.csv\""
   ]
  },
  {
   "cell_type": "code",
   "execution_count": null,
   "id": "3281bf6e",
   "metadata": {},
   "outputs": [],
   "source": [
    "#you will need to download the dataset; if you are running locally, please comment out the following \n",
    "await download(path, \"auto.csv\")\n",
    "path=\"auto.csv\""
   ]
  },
  {
   "cell_type": "code",
   "execution_count": null,
   "id": "f7fad328",
   "metadata": {},
   "outputs": [],
   "source": [
    "# Import pandas library\n",
    "import pandas as pd\n",
    "\n",
    "# Read the online file by the URL provides above, and assign it to variable \"df\"\n",
    "\n",
    "df = pd.read_csv(\"piyush.csv\", header=None)"
   ]
  },
  {
   "cell_type": "code",
   "execution_count": null,
   "id": "e71f2c9d",
   "metadata": {},
   "outputs": [],
   "source": [
    "print(\"the first five rows of data set are \")\n",
    "df.head(5)"
   ]
  },
  {
   "cell_type": "code",
   "execution_count": null,
   "id": "bf1b1efc",
   "metadata": {},
   "outputs": [],
   "source": [
    "print(\"the last five rows of data set are \")\n",
    "df.tail(5)"
   ]
  },
  {
   "cell_type": "code",
   "execution_count": null,
   "id": "a060a65f",
   "metadata": {},
   "outputs": [],
   "source": [
    "# create headers list\n",
    "headers = [\"symboling\",\"normalized-losses\",\"make\",\"fuel-type\",\"aspiration\", \"num-of-doors\",\"body-style\",\n",
    "         \"drive-wheels\",\"engine-location\",\"wheel-base\", \"length\",\"width\",\"height\",\"curb-weight\",\"engine-type\",\n",
    "         \"num-of-cylinders\", \"engine-size\",\"fuel-system\",\"bore\",\"stroke\",\"compression-ratio\",\"horsepower\",\n",
    "         \"peak-rpm\",\"city-mpg\",\"highway-mpg\",\"price\"]\n",
    "print(\"headers\\n\", headers)"
   ]
  },
  {
   "cell_type": "code",
   "execution_count": null,
   "id": "cbdb6642",
   "metadata": {},
   "outputs": [],
   "source": [
    "df.columns = headers\n",
    "df.head(5)"
   ]
  },
  {
   "cell_type": "code",
   "execution_count": null,
   "id": "da205be0",
   "metadata": {},
   "outputs": [],
   "source": [
    "df1 =  df.replace('?',np.NaN)"
   ]
  },
  {
   "cell_type": "code",
   "execution_count": null,
   "id": "8ca1aa6a",
   "metadata": {},
   "outputs": [],
   "source": [
    "df1.head(5)"
   ]
  },
  {
   "cell_type": "code",
   "execution_count": null,
   "id": "a8a1d227",
   "metadata": {},
   "outputs": [],
   "source": [
    "df= df1.dropna(subset = [\"price\"],axis = 0)\n",
    "df.head(20)"
   ]
  },
  {
   "cell_type": "code",
   "execution_count": null,
   "id": "437975ef",
   "metadata": {},
   "outputs": [],
   "source": [
    "print(df.columns)"
   ]
  },
  {
   "cell_type": "code",
   "execution_count": null,
   "id": "6ed4535c",
   "metadata": {},
   "outputs": [],
   "source": [
    "df.to_csv(\"automobile.csv\", index=False)"
   ]
  },
  {
   "cell_type": "markdown",
   "id": "98856f5e",
   "metadata": {},
   "source": [
    "# Read/Save Other Data Formats\n",
    "Data Formate\tRead\t          Save\n",
    "csv\t           pd.read_csv()\tdf.to_csv()\n",
    "json\t       pd.read_json()\tdf.to_json()\n",
    "excel          pd.read_excel()\tdf.to_excel()\n",
    "hdf\t           pd.read_hdf()\tdf.to_hdf()\n",
    "sql\t           pd.read_sql()\tdf.to_sql()\n",
    "...\t...\t...\n"
   ]
  },
  {
   "cell_type": "markdown",
   "id": "28d120af",
   "metadata": {},
   "source": [
    "# basic insights of data set"
   ]
  },
  {
   "cell_type": "code",
   "execution_count": null,
   "id": "e0486fac",
   "metadata": {},
   "outputs": [],
   "source": [
    "df.dtypes"
   ]
  },
  {
   "cell_type": "code",
   "execution_count": null,
   "id": "fb952581",
   "metadata": {},
   "outputs": [],
   "source": [
    "df.describe()#shows statical summary"
   ]
  },
  {
   "cell_type": "code",
   "execution_count": null,
   "id": "7d53cda6",
   "metadata": {},
   "outputs": [],
   "source": [
    "df.describe(include = \"all\")"
   ]
  },
  {
   "cell_type": "code",
   "execution_count": null,
   "id": "377aadc5",
   "metadata": {},
   "outputs": [],
   "source": [
    "df[['make', 'price','symboling']]\n",
    "df[['make', 'price','symboling']].describe()"
   ]
  },
  {
   "cell_type": "code",
   "execution_count": null,
   "id": "c6a6942f",
   "metadata": {},
   "outputs": [],
   "source": [
    "df.info()"
   ]
  }
 ],
 "metadata": {
  "kernelspec": {
   "display_name": "Python 3 (ipykernel)",
   "language": "python",
   "name": "python3"
  },
  "language_info": {
   "codemirror_mode": {
    "name": "ipython",
    "version": 3
   },
   "file_extension": ".py",
   "mimetype": "text/x-python",
   "name": "python",
   "nbconvert_exporter": "python",
   "pygments_lexer": "ipython3",
   "version": "3.9.12"
  }
 },
 "nbformat": 4,
 "nbformat_minor": 5
}
