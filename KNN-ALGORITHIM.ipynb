{
 "cells": [
  {
   "cell_type": "markdown",
   "id": "b04abe80",
   "metadata": {},
   "source": [
    "# Q4 write about KNN Learning with its implementation code in python.\n",
    "<H6>K-Nearest Neighbors (KNN) is a popular machine learning algorithm used for both \n",
    "classification and regression tasks. It is a non-parametric algorithm, which means it does not \n",
    "make any assumptions about the distribution of the data. KNN works by finding the k-nearest \n",
    "neighbors to a new data point based on the distance metric used, and then predicting the value \n",
    "of the new data point based on the majority class or the average value of its neighbors.</H6>\n"
   ]
  },
  {
   "cell_type": "code",
   "execution_count": 1,
   "id": "d9fd666a",
   "metadata": {},
   "outputs": [],
   "source": [
    "import numpy as np\n",
    "from sklearn.neighbors import KNeighborsClassifier\n"
   ]
  },
  {
   "cell_type": "code",
   "execution_count": 2,
   "id": "b864e70d",
   "metadata": {},
   "outputs": [],
   "source": [
    "# Generate sample data\n",
    "X = np.array([[1], [2], [3], [4], [5], [6], [7], [8], [9], [10]])\n",
    "y = np.array([0, 0, 0, 0, 0, 1, 1, 1, 1, 1])\n",
    "\n"
   ]
  },
  {
   "cell_type": "code",
   "execution_count": 3,
   "id": "8989e40a",
   "metadata": {},
   "outputs": [],
   "source": [
    "# Create KNN object\n",
    "knn = KNeighborsClassifier(n_neighbors=3)\n"
   ]
  },
  {
   "cell_type": "code",
   "execution_count": 4,
   "id": "fd38354c",
   "metadata": {},
   "outputs": [
    {
     "data": {
      "text/plain": [
       "KNeighborsClassifier(n_neighbors=3)"
      ]
     },
     "execution_count": 4,
     "metadata": {},
     "output_type": "execute_result"
    }
   ],
   "source": [
    "# Train the model using the training sets\n",
    "knn.fit(X, y)\n"
   ]
  },
  {
   "cell_type": "code",
   "execution_count": 5,
   "id": "c09a9350",
   "metadata": {},
   "outputs": [],
   "source": [
    "# Make predictions on new data\n",
    "X_test = np.array([[11], [12], [13], [14], [15]])\n",
    "y_pred = knn.predict(X_test)\n"
   ]
  },
  {
   "cell_type": "code",
   "execution_count": 6,
   "id": "51a98955",
   "metadata": {},
   "outputs": [
    {
     "name": "stdout",
     "output_type": "stream",
     "text": [
      "Predicted values:  [1 1 1 1 1]\n"
     ]
    }
   ],
   "source": [
    "# Print the predicted values\n",
    "print('Predicted values: ', y_pred)"
   ]
  },
  {
   "cell_type": "code",
   "execution_count": null,
   "id": "e34b11d2",
   "metadata": {},
   "outputs": [],
   "source": []
  }
 ],
 "metadata": {
  "kernelspec": {
   "display_name": "Python 3 (ipykernel)",
   "language": "python",
   "name": "python3"
  },
  "language_info": {
   "codemirror_mode": {
    "name": "ipython",
    "version": 3
   },
   "file_extension": ".py",
   "mimetype": "text/x-python",
   "name": "python",
   "nbconvert_exporter": "python",
   "pygments_lexer": "ipython3",
   "version": "3.9.12"
  }
 },
 "nbformat": 4,
 "nbformat_minor": 5
}
