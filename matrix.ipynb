{
 "cells": [
  {
   "cell_type": "markdown",
   "id": "92916957",
   "metadata": {},
   "source": [
    "# Q8write about matrix machine learning with its implementation code in \n",
    "<H6>In machine learning, matrices are often used to represent datasets and perform operations on \n",
    "them. Matrices can represent features, labels, or both in a dataset. They are used in many \n",
    "machine learning algorithms, including linear regression, logistic regression, and neural \n",
    "networks.</H6>\n"
   ]
  },
  {
   "cell_type": "code",
   "execution_count": 1,
   "id": "17c04fa5",
   "metadata": {},
   "outputs": [],
   "source": [
    "import numpy as np\n",
    "# Create a matrix for a dataset\n",
    "data = np.array([[1, 2, 3],\n",
    " [4, 5, 6],\n",
    " [7, 8, 9]])"
   ]
  },
  {
   "cell_type": "code",
   "execution_count": 2,
   "id": "56e99cd5",
   "metadata": {},
   "outputs": [
    {
     "data": {
      "text/plain": [
       "array([[1, 2, 3],\n",
       "       [4, 5, 6],\n",
       "       [7, 8, 9]])"
      ]
     },
     "execution_count": 2,
     "metadata": {},
     "output_type": "execute_result"
    }
   ],
   "source": [
    "data"
   ]
  },
  {
   "cell_type": "code",
   "execution_count": 3,
   "id": "4011333d",
   "metadata": {},
   "outputs": [],
   "source": [
    "# Create matrices for features and labels\n",
    "features = np.array([[1, 2],\n",
    " [4, 5],\n",
    " [7, 8]])\n",
    "labels = np.array([3, 6, 9])\n"
   ]
  },
  {
   "cell_type": "code",
   "execution_count": 4,
   "id": "8bc814ec",
   "metadata": {},
   "outputs": [
    {
     "data": {
      "text/plain": [
       "array([[1, 2],\n",
       "       [4, 5],\n",
       "       [7, 8]])"
      ]
     },
     "execution_count": 4,
     "metadata": {},
     "output_type": "execute_result"
    }
   ],
   "source": [
    "features"
   ]
  },
  {
   "cell_type": "code",
   "execution_count": 5,
   "id": "dfc07229",
   "metadata": {},
   "outputs": [
    {
     "data": {
      "text/plain": [
       "array([3, 6, 9])"
      ]
     },
     "execution_count": 5,
     "metadata": {},
     "output_type": "execute_result"
    }
   ],
   "source": [
    "labels"
   ]
  },
  {
   "cell_type": "markdown",
   "id": "932ceee1",
   "metadata": {},
   "source": [
    "<h1>We can use these matrices to perform machine learning operations. For example, we can use \n",
    "linear regression to predict the label for a new set of features:</h1>"
   ]
  },
  {
   "cell_type": "code",
   "execution_count": 7,
   "id": "aabe8914",
   "metadata": {},
   "outputs": [
    {
     "name": "stdout",
     "output_type": "stream",
     "text": [
      "[4. 7.]\n"
     ]
    }
   ],
   "source": [
    "from sklearn.linear_model import LinearRegression\n",
    "# Create a linear regression model\n",
    "model = LinearRegression()\n",
    "# Fit the model to the data\n",
    "model.fit(features, labels)\n",
    "# Make a prediction\n",
    "new_features = np.array([[2, 3],[5, 6]])\n",
    "predictions = model.predict(new_features)\n",
    "# Print the predictions\n",
    "print(predictions)\n"
   ]
  },
  {
   "cell_type": "code",
   "execution_count": null,
   "id": "8bf53dc6",
   "metadata": {},
   "outputs": [],
   "source": []
  }
 ],
 "metadata": {
  "kernelspec": {
   "display_name": "Python 3 (ipykernel)",
   "language": "python",
   "name": "python3"
  },
  "language_info": {
   "codemirror_mode": {
    "name": "ipython",
    "version": 3
   },
   "file_extension": ".py",
   "mimetype": "text/x-python",
   "name": "python",
   "nbconvert_exporter": "python",
   "pygments_lexer": "ipython3",
   "version": "3.9.12"
  }
 },
 "nbformat": 4,
 "nbformat_minor": 5
}
