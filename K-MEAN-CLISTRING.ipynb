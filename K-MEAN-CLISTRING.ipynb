{
 "cells": [
  {
   "cell_type": "markdown",
   "id": "3a56d37d",
   "metadata": {},
   "source": [
    "# Q7write about K-mean clustering with its implementation code in python.\n",
    "<H6>K-means clustering is a popular unsupervised machine learning algorithm used for clustering \n",
    "tasks. It is a simple algorithm that works by partitioning data into K clusters based on their \n",
    "similarity. The algorithm starts with K random centroids and assigns each data point to the \n",
    "nearest centroid. Then, the centroids are updated by computing the mean of the data points in \n",
    "each cluster. This process is repeated until the centroids no longer move or a maximum \n",
    "number of iterations is reached.</H6>"
   ]
  },
  {
   "cell_type": "code",
   "execution_count": 1,
   "id": "daa05caa",
   "metadata": {},
   "outputs": [],
   "source": [
    "import numpy as np\n",
    "from sklearn.cluster import KMeans\n",
    "# Generate sample data\n",
    "X = np.array([[1, 2], [1, 4], [1, 0], [4, 2], [4, 4], [4, 0]])\n",
    "k = 2\n",
    "\n"
   ]
  },
  {
   "cell_type": "code",
   "execution_count": 2,
   "id": "72ef9d46",
   "metadata": {},
   "outputs": [],
   "source": [
    "# Create KMeans object\n",
    "kmeans = KMeans(n_clusters=k)"
   ]
  },
  {
   "cell_type": "code",
   "execution_count": 3,
   "id": "22dec399",
   "metadata": {},
   "outputs": [
    {
     "data": {
      "text/plain": [
       "KMeans(n_clusters=2)"
      ]
     },
     "execution_count": 3,
     "metadata": {},
     "output_type": "execute_result"
    }
   ],
   "source": [
    "# Train the model using the training sets\n",
    "kmeans.fit(X)\n"
   ]
  },
  {
   "cell_type": "code",
   "execution_count": 4,
   "id": "491fca97",
   "metadata": {},
   "outputs": [
    {
     "name": "stdout",
     "output_type": "stream",
     "text": [
      "Centroids:  [[4. 2.]\n",
      " [1. 2.]]\n"
     ]
    }
   ],
   "source": [
    "# Print the centroid values\n",
    "print('Centroids: ', kmeans.cluster_centers_)\n"
   ]
  },
  {
   "cell_type": "code",
   "execution_count": 5,
   "id": "07c45e43",
   "metadata": {},
   "outputs": [],
   "source": [
    "# Make predictions on new data\n",
    "X_test = np.array([[0, 0], [5, 5]])\n",
    "y_pred = kmeans.predict(X_test)\n"
   ]
  },
  {
   "cell_type": "code",
   "execution_count": 6,
   "id": "417c7c1f",
   "metadata": {},
   "outputs": [
    {
     "name": "stdout",
     "output_type": "stream",
     "text": [
      "Predicted values:  [1 0]\n"
     ]
    }
   ],
   "source": [
    "# Print the predicted values\n",
    "print('Predicted values: ', y_pred)"
   ]
  },
  {
   "cell_type": "code",
   "execution_count": null,
   "id": "66359f00",
   "metadata": {},
   "outputs": [],
   "source": []
  }
 ],
 "metadata": {
  "kernelspec": {
   "display_name": "Python 3 (ipykernel)",
   "language": "python",
   "name": "python3"
  },
  "language_info": {
   "codemirror_mode": {
    "name": "ipython",
    "version": 3
   },
   "file_extension": ".py",
   "mimetype": "text/x-python",
   "name": "python",
   "nbconvert_exporter": "python",
   "pygments_lexer": "ipython3",
   "version": "3.9.12"
  }
 },
 "nbformat": 4,
 "nbformat_minor": 5
}
